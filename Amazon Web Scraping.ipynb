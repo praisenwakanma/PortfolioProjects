{
 "cells": [
  {
   "cell_type": "code",
   "execution_count": 1,
   "id": "4e423775",
   "metadata": {},
   "outputs": [],
   "source": [
    "#importing libraries \n",
    "from bs4 import BeautifulSoup\n",
    "import requests\n",
    "import time\n",
    "import datetime\n",
    "import smtplib"
   ]
  },
  {
   "cell_type": "code",
   "execution_count": 6,
   "id": "67dfe05a",
   "metadata": {},
   "outputs": [
    {
     "name": "stdout",
     "output_type": "stream",
     "text": [
      "\n",
      "            Longrune Modern Fabric Sectional Couch Living Room 6-Pcs, L-Shaped Corner Sofa with 3 Pillows, 100 inch, Gray\n",
      "           \n",
      "\n",
      "\n",
      "\n",
      "\n",
      "\n",
      "             $959.00\n",
      "            \n",
      "\n",
      "\n",
      "              $\n",
      "             \n",
      "\n",
      "              959\n",
      "              \n",
      "               .\n",
      "              \n",
      "\n",
      "\n",
      "              00\n",
      "             \n",
      "\n",
      "\n",
      "\n",
      "\n",
      "\n",
      "\n",
      "\n",
      "\n",
      "\n",
      "\n",
      "\n"
     ]
    }
   ],
   "source": [
    "#connecting to website\n",
    "url = 'https://www.amazon.com/Longrune-Modern-Fabric-Sectional-Couch/dp/B0B31FVQ13/ref=sr_1_1_sspa?fst=as%3Aoff&pf_rd_i=3733551&pf_rd_m=ATVPDKIKX0DER&pf_rd_p=877c0809-fc53-42a6-91f2-7c8f50e6e9be&pf_rd_r=YGS9THQ86V0Q1S94K5ZM&pf_rd_s=merchandised-search-2&pf_rd_t=101&qid=1660154765&refinements=p_n_feature_two_browse-bin%3A3248836011&rnid=3248834011&s=home-garden&sr=1-1-spons&ufe=app_do%3Aamzn1.fos.2b70bf2b-6730-4ccf-ab97-eb60747b8daf&psc=1'\n",
    "\n",
    "headers = {'User-Agent': \"Mozilla/5.0 (Macintosh; Intel Mac OS X 10_15_7) AppleWebKit/537.36 (KHTML, like Gecko) Chrome/103.0.0.0 Safari/537.36\"}           \n",
    "\n",
    "page = requests.get(url, headers=headers)\n",
    "        \n",
    "soup1 = BeautifulSoup(page.content, 'html.parser')\n",
    "\n",
    "soup2= BeautifulSoup(soup1.prettify(), 'html.parser')\n",
    "\n",
    "title = soup2.find(id='productTitle').get_text()\n",
    "\n",
    "price = soup2.find(id='corePriceDisplay_desktop_feature_div').get_text()\n",
    "\n",
    "print(title)\n",
    "print(price)"
   ]
  },
  {
   "cell_type": "code",
   "execution_count": 7,
   "id": "de1c1515",
   "metadata": {},
   "outputs": [
    {
     "name": "stdout",
     "output_type": "stream",
     "text": [
      "Longrune Modern Fabric Sectional Couch Living Room 6-Pcs, L-Shaped Corner Sofa with 3 Pillows, 100 inch, Gray\n",
      "959.00\n"
     ]
    }
   ],
   "source": [
    "#cleaning html data\n",
    "price = price.strip()[1:7]\n",
    "title = title.strip()\n",
    "\n",
    "print(title)\n",
    "print(price)\n"
   ]
  },
  {
   "cell_type": "code",
   "execution_count": 8,
   "id": "9f3ed65d",
   "metadata": {},
   "outputs": [
    {
     "name": "stdout",
     "output_type": "stream",
     "text": [
      "2022-08-10\n"
     ]
    }
   ],
   "source": [
    "import datetime\n",
    "today = datetime.date.today()\n",
    "print(today)"
   ]
  },
  {
   "cell_type": "code",
   "execution_count": 9,
   "id": "b84c789b",
   "metadata": {},
   "outputs": [],
   "source": [
    "#creating a csv\n",
    "import csv\n",
    "\n",
    "header= ['Title', 'Price', 'Date']\n",
    "\n",
    "data = [title, price, today]\n",
    "\n",
    "with open('AmazonWebScraping.csv', 'w', newline='', encoding='UTF8') as f:\n",
    "    writer = csv.writer(f)\n",
    "    writer.writerow(header)\n",
    "    writer.writerow(data)"
   ]
  },
  {
   "cell_type": "code",
   "execution_count": 10,
   "id": "300ad2ff",
   "metadata": {},
   "outputs": [],
   "source": [
    "#appending data to csv\n",
    "with open('AmazonWebScraping.csv', 'a+', newline='', encoding='UTF8') as f:\n",
    "    writer = csv.writer(f)\n",
    "    writer.writerow(data)    "
   ]
  },
  {
   "cell_type": "code",
   "execution_count": 13,
   "id": "70bc673d",
   "metadata": {},
   "outputs": [],
   "source": [
    "#automating sales price check over time\n",
    "def check_price():\n",
    "    url = 'https://www.amazon.com/Longrune-Modern-Fabric-Sectional-Couch/dp/B0B31FVQ13/ref=sr_1_1_sspa?fst=as%3Aoff&pf_rd_i=3733551&pf_rd_m=ATVPDKIKX0DER&pf_rd_p=877c0809-fc53-42a6-91f2-7c8f50e6e9be&pf_rd_r=YGS9THQ86V0Q1S94K5ZM&pf_rd_s=merchandised-search-2&pf_rd_t=101&qid=1660154765&refinements=p_n_feature_two_browse-bin%3A3248836011&rnid=3248834011&s=home-garden&sr=1-1-spons&ufe=app_do%3Aamzn1.fos.2b70bf2b-6730-4ccf-ab97-eb60747b8daf&psc=1'\n",
    "\n",
    "    headers = {'User-Agent': \"Mozilla/5.0 (Macintosh; Intel Mac OS X 10_15_7) AppleWebKit/537.36 (KHTML, like Gecko) Chrome/103.0.0.0 Safari/537.36\"}           \n",
    "\n",
    "    page = requests.get(url, headers=headers)\n",
    "        \n",
    "    soup1 = BeautifulSoup(page.content, 'html.parser')\n",
    "\n",
    "    soup2= BeautifulSoup(soup1.prettify(), 'html.parser')\n",
    "\n",
    "    title = soup2.find(id='productTitle').get_text()\n",
    "\n",
    "    price = soup2.find(id='corePriceDisplay_desktop_feature_div').get_text()\n",
    "    \n",
    "    price = price.strip()[1:7]\n",
    "    title = title.strip()\n",
    "    \n",
    "    import datetime\n",
    "    today = datetime.date.today()\n",
    "    \n",
    "    import csv\n",
    "\n",
    "    header= ['Title', 'Price', 'Date']\n",
    "\n",
    "    data = [title, price, today]\n",
    "    \n",
    "    with open('AmazonWebScraping.csv', 'a+', newline='', encoding='UTF8') as f:\n",
    "        writer = csv.writer(f)\n",
    "        writer.writerow(data)   \n"
   ]
  },
  {
   "cell_type": "code",
   "execution_count": null,
   "id": "0404b221",
   "metadata": {},
   "outputs": [],
   "source": [
    "#automating csv to update price every hour\n",
    "while(True):\n",
    "    check_price()\n",
    "    time.sleep(3600)"
   ]
  },
  {
   "cell_type": "code",
   "execution_count": null,
   "id": "f0809352",
   "metadata": {},
   "outputs": [],
   "source": [
    "import pandas as pd\n",
    "df = pd.read_csv('/Users/chizurokenwakanmalafilm/AmazonWebScraping.csv')\n",
    "print(df)"
   ]
  },
  {
   "cell_type": "code",
   "execution_count": null,
   "id": "12ad2ad2",
   "metadata": {},
   "outputs": [],
   "source": [
    "# template for email notifying price drop on select item\n",
    "#user can fill in the blank quotation marks\n",
    "def send_mail():\n",
    "    server = smtplib.SMTP_SSL('smtp.gmail.com',465)\n",
    "    server.ehlo()\n",
    "    #server.starttls()\n",
    "    server.ehlo()\n",
    "    server.login(,'')\n",
    "    \n",
    "    subject = \"The Sofa you want is below $900! Now is your chance to buy!\"\n",
    "    body = \"This is the moment you've been waiting for. Now is your chance to pick up the sofa of your dreams. Don't miss out! Link here: https://www.amazon.com/Longrune-Modern-Fabric-Sectional-Couch/dp/B0B31FVQ13/ref=sr_1_1_sspa?fst=as%3Aoff&pf_rd_i=3733551&pf_rd_m=ATVPDKIKX0DER&pf_rd_p=877c0809-fc53-42a6-91f2-7c8f50e6e9be&pf_rd_r=YGS9THQ86V0Q1S94K5ZM&pf_rd_s=merchandised-search-2&pf_rd_t=101&qid=1660154765&refinements=p_n_feature_two_browse-bin%3A3248836011&rnid=3248834011&s=home-garden&sr=1-1-spons&ufe=app_do%3Aamzn1.fos.2b70bf2b-6730-4ccf-ab97-eb60747b8daf&psc=1\n",
    "    msg = f\"Subject: {subject}\\n\\n{body}\"\n",
    "    \n",
    "    server.sendmail(\n",
    "        '',\n",
    "        msg"
   ]
  },
  {
   "cell_type": "code",
   "execution_count": null,
   "id": "c348cd8b",
   "metadata": {},
   "outputs": [],
   "source": [
    "#automating email delivery\n",
    "if(price> 900):\n",
    "    send_mail()\n"
   ]
  }
 ],
 "metadata": {
  "kernelspec": {
   "display_name": "Python 3 (ipykernel)",
   "language": "python",
   "name": "python3"
  },
  "language_info": {
   "codemirror_mode": {
    "name": "ipython",
    "version": 3
   },
   "file_extension": ".py",
   "mimetype": "text/x-python",
   "name": "python",
   "nbconvert_exporter": "python",
   "pygments_lexer": "ipython3",
   "version": "3.9.12"
  }
 },
 "nbformat": 4,
 "nbformat_minor": 5
}
